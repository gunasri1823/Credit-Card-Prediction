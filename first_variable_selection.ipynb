{
 "cells": [
  {
   "cell_type": "markdown",
   "metadata": {
    "id": "xNCKJ4xEfcEK"
   },
   "source": [
    "# EDS6340 - Introduction to Data Science - Project Phase 2\n",
    "\n",
    "## Group 8\n",
    "Madhukumar Gopal | 2354612 <br>\n",
    "Kartheek Reddy Kancharla | 2317133 <br>\n",
    "Nitin Hariprasad CV | 2344598 <br>\n",
    "Navya Madhuri Bagireddy  | 2349675 <br>\n",
    "Keerthi Reddy Rajamuri | 2353103 <br>\n"
   ]
  },
  {
   "cell_type": "code",
   "execution_count": 35,
   "metadata": {
    "id": "1vpHKU7h7mn2"
   },
   "outputs": [],
   "source": [
    "# Import the necessary libraries\n",
    "import pandas as pd\n",
    "import numpy as np\n",
    "import matplotlib.pyplot as plt\n",
    "import seaborn as sns\n",
    "\n",
    "# Import machine learning models\n",
    "from sklearn.model_selection import train_test_split, GridSearchCV, RandomizedSearchCV\n",
    "from sklearn.linear_model import LogisticRegression, Lasso\n",
    "from sklearn.neighbors import KNeighborsClassifier\n",
    "from sklearn.ensemble import RandomForestClassifier, VotingClassifier\n",
    "from sklearn.svm import SVC\n",
    "from sklearn.tree import DecisionTreeClassifier\n",
    "from scipy.stats import randint\n",
    "from xgboost import XGBClassifier\n",
    "from sklearn.neural_network import MLPClassifier\n",
    "from sklearn.metrics import accuracy_score, precision_score, recall_score, f1_score, confusion_matrix\n",
    "from sklearn.feature_selection import SelectKBest, f_classif\n"
   ]
  },
  {
   "cell_type": "markdown",
   "metadata": {
    "id": "vUT1mfiygOF6"
   },
   "source": [
    "### Review the cleaned dataset from Phase 2"
   ]
  },
  {
   "cell_type": "code",
   "execution_count": 36,
   "metadata": {
    "colab": {
     "base_uri": "https://localhost:8080/",
     "height": 221
    },
    "id": "C860tlkJ8sQT",
    "outputId": "2cecbdc2-2517-4597-fbb4-876597e4efc4"
   },
   "outputs": [
    {
     "data": {
      "text/html": [
       "<div>\n",
       "<style scoped>\n",
       "    .dataframe tbody tr th:only-of-type {\n",
       "        vertical-align: middle;\n",
       "    }\n",
       "\n",
       "    .dataframe tbody tr th {\n",
       "        vertical-align: top;\n",
       "    }\n",
       "\n",
       "    .dataframe thead th {\n",
       "        text-align: right;\n",
       "    }\n",
       "</style>\n",
       "<table border=\"1\" class=\"dataframe\">\n",
       "  <thead>\n",
       "    <tr style=\"text-align: right;\">\n",
       "      <th></th>\n",
       "      <th>LIMIT_BAL</th>\n",
       "      <th>SEX</th>\n",
       "      <th>EDUCATION</th>\n",
       "      <th>MARRIAGE</th>\n",
       "      <th>AGE</th>\n",
       "      <th>PAY_1</th>\n",
       "      <th>PAY_2</th>\n",
       "      <th>PAY_3</th>\n",
       "      <th>PAY_4</th>\n",
       "      <th>PAY_5</th>\n",
       "      <th>...</th>\n",
       "      <th>BILL_AMT4</th>\n",
       "      <th>BILL_AMT5</th>\n",
       "      <th>BILL_AMT6</th>\n",
       "      <th>PAY_AMT1</th>\n",
       "      <th>PAY_AMT2</th>\n",
       "      <th>PAY_AMT3</th>\n",
       "      <th>PAY_AMT4</th>\n",
       "      <th>PAY_AMT5</th>\n",
       "      <th>PAY_AMT6</th>\n",
       "      <th>DEFAULT</th>\n",
       "    </tr>\n",
       "  </thead>\n",
       "  <tbody>\n",
       "    <tr>\n",
       "      <th>0</th>\n",
       "      <td>20000</td>\n",
       "      <td>2</td>\n",
       "      <td>2</td>\n",
       "      <td>1</td>\n",
       "      <td>24</td>\n",
       "      <td>2</td>\n",
       "      <td>2</td>\n",
       "      <td>-1</td>\n",
       "      <td>-1</td>\n",
       "      <td>-2</td>\n",
       "      <td>...</td>\n",
       "      <td>0</td>\n",
       "      <td>0</td>\n",
       "      <td>0</td>\n",
       "      <td>0</td>\n",
       "      <td>689</td>\n",
       "      <td>0</td>\n",
       "      <td>0</td>\n",
       "      <td>0</td>\n",
       "      <td>0</td>\n",
       "      <td>1</td>\n",
       "    </tr>\n",
       "    <tr>\n",
       "      <th>1</th>\n",
       "      <td>120000</td>\n",
       "      <td>2</td>\n",
       "      <td>2</td>\n",
       "      <td>2</td>\n",
       "      <td>26</td>\n",
       "      <td>-1</td>\n",
       "      <td>2</td>\n",
       "      <td>0</td>\n",
       "      <td>0</td>\n",
       "      <td>0</td>\n",
       "      <td>...</td>\n",
       "      <td>3272</td>\n",
       "      <td>3455</td>\n",
       "      <td>3261</td>\n",
       "      <td>0</td>\n",
       "      <td>1000</td>\n",
       "      <td>1000</td>\n",
       "      <td>1000</td>\n",
       "      <td>0</td>\n",
       "      <td>2000</td>\n",
       "      <td>1</td>\n",
       "    </tr>\n",
       "    <tr>\n",
       "      <th>2</th>\n",
       "      <td>90000</td>\n",
       "      <td>2</td>\n",
       "      <td>2</td>\n",
       "      <td>2</td>\n",
       "      <td>34</td>\n",
       "      <td>0</td>\n",
       "      <td>0</td>\n",
       "      <td>0</td>\n",
       "      <td>0</td>\n",
       "      <td>0</td>\n",
       "      <td>...</td>\n",
       "      <td>14331</td>\n",
       "      <td>14948</td>\n",
       "      <td>15549</td>\n",
       "      <td>1518</td>\n",
       "      <td>1500</td>\n",
       "      <td>1000</td>\n",
       "      <td>1000</td>\n",
       "      <td>1000</td>\n",
       "      <td>5000</td>\n",
       "      <td>0</td>\n",
       "    </tr>\n",
       "    <tr>\n",
       "      <th>3</th>\n",
       "      <td>50000</td>\n",
       "      <td>2</td>\n",
       "      <td>2</td>\n",
       "      <td>1</td>\n",
       "      <td>37</td>\n",
       "      <td>0</td>\n",
       "      <td>0</td>\n",
       "      <td>0</td>\n",
       "      <td>0</td>\n",
       "      <td>0</td>\n",
       "      <td>...</td>\n",
       "      <td>28314</td>\n",
       "      <td>28959</td>\n",
       "      <td>29547</td>\n",
       "      <td>2000</td>\n",
       "      <td>2019</td>\n",
       "      <td>1200</td>\n",
       "      <td>1100</td>\n",
       "      <td>1069</td>\n",
       "      <td>1000</td>\n",
       "      <td>0</td>\n",
       "    </tr>\n",
       "    <tr>\n",
       "      <th>4</th>\n",
       "      <td>50000</td>\n",
       "      <td>1</td>\n",
       "      <td>2</td>\n",
       "      <td>1</td>\n",
       "      <td>57</td>\n",
       "      <td>-1</td>\n",
       "      <td>0</td>\n",
       "      <td>-1</td>\n",
       "      <td>0</td>\n",
       "      <td>0</td>\n",
       "      <td>...</td>\n",
       "      <td>20940</td>\n",
       "      <td>19146</td>\n",
       "      <td>19131</td>\n",
       "      <td>2000</td>\n",
       "      <td>36681</td>\n",
       "      <td>10000</td>\n",
       "      <td>9000</td>\n",
       "      <td>689</td>\n",
       "      <td>679</td>\n",
       "      <td>0</td>\n",
       "    </tr>\n",
       "  </tbody>\n",
       "</table>\n",
       "<p>5 rows × 24 columns</p>\n",
       "</div>"
      ],
      "text/plain": [
       "   LIMIT_BAL  SEX  EDUCATION  MARRIAGE  AGE  PAY_1  PAY_2  PAY_3  PAY_4  \\\n",
       "0      20000    2          2         1   24      2      2     -1     -1   \n",
       "1     120000    2          2         2   26     -1      2      0      0   \n",
       "2      90000    2          2         2   34      0      0      0      0   \n",
       "3      50000    2          2         1   37      0      0      0      0   \n",
       "4      50000    1          2         1   57     -1      0     -1      0   \n",
       "\n",
       "   PAY_5  ...  BILL_AMT4  BILL_AMT5  BILL_AMT6  PAY_AMT1  PAY_AMT2  PAY_AMT3  \\\n",
       "0     -2  ...          0          0          0         0       689         0   \n",
       "1      0  ...       3272       3455       3261         0      1000      1000   \n",
       "2      0  ...      14331      14948      15549      1518      1500      1000   \n",
       "3      0  ...      28314      28959      29547      2000      2019      1200   \n",
       "4      0  ...      20940      19146      19131      2000     36681     10000   \n",
       "\n",
       "   PAY_AMT4  PAY_AMT5  PAY_AMT6  DEFAULT  \n",
       "0         0         0         0        1  \n",
       "1      1000         0      2000        1  \n",
       "2      1000      1000      5000        0  \n",
       "3      1100      1069      1000        0  \n",
       "4      9000       689       679        0  \n",
       "\n",
       "[5 rows x 24 columns]"
      ]
     },
     "execution_count": 36,
     "metadata": {},
     "output_type": "execute_result"
    }
   ],
   "source": [
    "# Read the clean dataset\n",
    "df = pd.read_csv(\"Group_8_Clean_Data.csv\")\n",
    "\n",
    "# Display the first few tuples of the dataset\n",
    "df.head()"
   ]
  },
  {
   "cell_type": "code",
   "execution_count": 37,
   "metadata": {
    "colab": {
     "base_uri": "https://localhost:8080/",
     "height": 0
    },
    "id": "1qps3MzsgUiu",
    "outputId": "12528b94-84bf-47a1-8f9f-6609d1c2b9cf"
   },
   "outputs": [
    {
     "name": "stdout",
     "output_type": "stream",
     "text": [
      "<class 'pandas.core.frame.DataFrame'>\n",
      "RangeIndex: 30000 entries, 0 to 29999\n",
      "Data columns (total 24 columns):\n",
      " #   Column     Non-Null Count  Dtype\n",
      "---  ------     --------------  -----\n",
      " 0   LIMIT_BAL  30000 non-null  int64\n",
      " 1   SEX        30000 non-null  int64\n",
      " 2   EDUCATION  30000 non-null  int64\n",
      " 3   MARRIAGE   30000 non-null  int64\n",
      " 4   AGE        30000 non-null  int64\n",
      " 5   PAY_1      30000 non-null  int64\n",
      " 6   PAY_2      30000 non-null  int64\n",
      " 7   PAY_3      30000 non-null  int64\n",
      " 8   PAY_4      30000 non-null  int64\n",
      " 9   PAY_5      30000 non-null  int64\n",
      " 10  PAY_6      30000 non-null  int64\n",
      " 11  BILL_AMT1  30000 non-null  int64\n",
      " 12  BILL_AMT2  30000 non-null  int64\n",
      " 13  BILL_AMT3  30000 non-null  int64\n",
      " 14  BILL_AMT4  30000 non-null  int64\n",
      " 15  BILL_AMT5  30000 non-null  int64\n",
      " 16  BILL_AMT6  30000 non-null  int64\n",
      " 17  PAY_AMT1   30000 non-null  int64\n",
      " 18  PAY_AMT2   30000 non-null  int64\n",
      " 19  PAY_AMT3   30000 non-null  int64\n",
      " 20  PAY_AMT4   30000 non-null  int64\n",
      " 21  PAY_AMT5   30000 non-null  int64\n",
      " 22  PAY_AMT6   30000 non-null  int64\n",
      " 23  DEFAULT    30000 non-null  int64\n",
      "dtypes: int64(24)\n",
      "memory usage: 5.5 MB\n"
     ]
    }
   ],
   "source": [
    "# Display the column information\n",
    "df.info()"
   ]
  },
  {
   "cell_type": "markdown",
   "metadata": {
    "id": "r_lnCyMl01IT"
   },
   "source": []
  },
  {
   "cell_type": "markdown",
   "metadata": {
    "id": "wb3xgIfXiPB-"
   },
   "source": [
    "#### Split the features into predicted features and target feature"
   ]
  },
  {
   "cell_type": "code",
   "execution_count": 38,
   "metadata": {
    "id": "gxRmXIU2iJ92"
   },
   "outputs": [],
   "source": [
    "#splitting the data \n",
    "X = df.drop('DEFAULT', axis = 1)\n",
    "y = df['DEFAULT']"
   ]
  },
  {
   "cell_type": "markdown",
   "metadata": {
    "id": "DvpFe68ziWo1"
   },
   "source": [
    "#### Dataset splitted to Train (80%) and Test (20%)"
   ]
  },
  {
   "cell_type": "code",
   "execution_count": 39,
   "metadata": {
    "id": "LvNnj0GRiXsu"
   },
   "outputs": [],
   "source": [
    "from sklearn.model_selection import train_test_split\n",
    "\n",
    "X_train,X_test,y_train,y_test = train_test_split(X,y, test_size = 0.2, random_state = 7)"
   ]
  },
  {
   "cell_type": "markdown",
   "metadata": {
    "id": "UjvhN_3yifDn"
   },
   "source": [
    "### Define functions to estimate the performance metrics\n"
   ]
  },
  {
   "cell_type": "code",
   "execution_count": 40,
   "metadata": {
    "id": "q3ElR8R6igJU"
   },
   "outputs": [],
   "source": [
    "# Function for perfromance metric of data\n",
    "def Perf_Metric(Actual_Ouput, Prediction_Output):\n",
    "  # Actual_Ouput is the actual output of training data taken from the dataset\n",
    "  # TrainData_Prediction is the predicted output from the model for the training data\n",
    "  Accuracy = round(accuracy_score(Actual_Ouput, Prediction_Output),3)\n",
    "  F1Score = round(f1_score(Actual_Ouput, Prediction_Output),3)\n",
    "  Precision = round(precision_score(Actual_Ouput, Prediction_Output),3)\n",
    "  Recall = round(recall_score(Actual_Ouput, Prediction_Output),3)\n",
    "  return [Accuracy, F1Score, Precision, Recall]"
   ]
  },
  {
   "cell_type": "markdown",
   "metadata": {
    "id": "-FM_P8HeL-po"
   },
   "source": [
    "# Step 2 - Variable Selection"
   ]
  },
  {
   "cell_type": "markdown",
   "metadata": {
    "id": "4Jv90hwWYmUP"
   },
   "source": [
    "1. XGBoost:\n",
    "* XGBoost is an optimized gradient boosting algorithm used for supervised learning tasks.\n",
    "* Suited for both regression and classification problems, especially with structured/tabular data.\n",
    "* It's an advanced boosting method that iteratively builds an ensemble of weak learners to make accurate predictions by learning from data patterns.\n",
    "2. Extreme Learning Machine Model:\n",
    "*  Extreme Learning Machines (ELMs) are single-layer feedforward neural networks.\n",
    "* Efficient for regression and classification tasks, particularly with large-scale datasets.\n",
    "* ELMs initialize input weights randomly, compute output weights analytically, and deliver rapid learning with minimal hyperparameter tuning.\n",
    "3. Basic Deep Learning Model with Two Hidden Layers:\n",
    "* A basic neural network architecture comprising an input layer, a hidden layer, and an output layer.\n",
    "* Suitable for diverse problems, learning complex patterns from data in supervised settings.\n",
    "* This model extracts hierarchical representations from data, making it effective for various machine learning tasks."
   ]
  },
  {
   "cell_type": "markdown",
   "metadata": {
    "id": "j_CcuHwTMGzR"
   },
   "source": [
    "## Lasso Technique"
   ]
  },
  {
   "cell_type": "markdown",
   "metadata": {
    "id": "j-xs0-zoRwbX"
   },
   "source": [
    "Lasso technique estimates the importance, lasso coefficient of the features on the target variable. The closer the lasso coefficient to zero means the lesser the importance of the variable."
   ]
  },
  {
   "cell_type": "code",
   "execution_count": 41,
   "metadata": {
    "colab": {
     "base_uri": "https://localhost:8080/",
     "height": 569
    },
    "id": "hDfOsJNmMF6a",
    "outputId": "08f57819-9434-4816-e9ec-2881f71167e6"
   },
   "outputs": [
    {
     "data": {
      "image/png": "[encoded data removed]",
      "text/plain": [
       "<Figure size 640x480 with 1 Axes>"
      ]
     },
     "metadata": {},
     "output_type": "display_data"
    }
   ],
   "source": [
    "# Lasso model to estimate the best features\n",
    "lasso_model = Lasso(alpha=0.001)\n",
    "lasso_model.fit(X, y)\n",
    "\n",
    "# Estimate the lasso coefficients and make all to positive for better representation\n",
    "#lasso_coef = np.abs(lasso_model.coef_)\n",
    "lasso_coef = lasso_model.coef_\n",
    "\n",
    "# Select features with non-zero coefficients\n",
    "selected_features = X_train.columns[lasso_model.coef_ != 0]\n",
    "\n",
    "# plotting the Column Names and Importance of Columns.\n",
    "plt.bar(list(selected_features), lasso_coef)\n",
    "#plt.grid()\n",
    "plt.title(\"Feature Selection Based on Lasso\")\n",
    "plt.xlabel(\"Features\")\n",
    "plt.ylabel(\"Importance\")\n",
    "plt.xticks(rotation=45, ha='right')  # Rotate x-axis labels for better visibility\n",
    "plt.show()\n",
    "\n"
   ]
  },
  {
   "cell_type": "markdown",
   "metadata": {
    "id": "JzYBME1Qra8c"
   },
   "source": [
    "There are four features which has importance value less than 0.1. So. eliminating the features with importance magnitude less than 0.008."
   ]
  },
  {
   "cell_type": "code",
   "execution_count": 42,
   "metadata": {
    "colab": {
     "base_uri": "https://localhost:8080/",
     "height": 0
    },
    "id": "gBurJyZTjRdB",
    "outputId": "605fc02d-69c8-4bac-c358-3255cc8dd66a"
   },
   "outputs": [
    {
     "data": {
      "text/plain": [
       "Index(['SEX', 'EDUCATION', 'MARRIAGE', 'PAY_1', 'PAY_2', 'PAY_3'], dtype='object')"
      ]
     },
     "execution_count": 42,
     "metadata": {},
     "output_type": "execute_result"
    }
   ],
   "source": [
    "# Select features with magnitude of coefficients greater than 0.1\n",
    "selected_features = X_train.columns[abs(lasso_model.coef_) > 0.008]\n",
    "# Display selected features\n",
    "selected_features"
   ]
  },
  {
   "cell_type": "markdown",
   "metadata": {
    "id": "j436jKOk2DjH"
   },
   "source": [
    "Observation: 6 of the 24 feaures selected using Lasso"
   ]
  },
  {
   "cell_type": "markdown",
   "metadata": {
    "id": "Ms4ivhCl2lmg"
   },
   "source": [
    "## KNN"
   ]
  },
  {
   "cell_type": "code",
   "execution_count": 43,
   "metadata": {
    "colab": {
     "base_uri": "https://localhost:8080/",
     "height": 0
    },
    "id": "3bjopKT_2uvo",
    "outputId": "b208e88d-8d3b-4622-f022-b9b9e8def2f0"
   },
   "outputs": [
    {
     "name": "stdout",
     "output_type": "stream",
     "text": [
      "           Selected\n",
      "LIMIT_BAL     False\n",
      "SEX           False\n",
      "EDUCATION     False\n",
      "MARRIAGE      False\n",
      "AGE           False\n",
      "PAY_1          True\n",
      "PAY_2          True\n",
      "PAY_3          True\n",
      "PAY_4          True\n",
      "PAY_5          True\n",
      "PAY_6         False\n",
      "BILL_AMT1     False\n",
      "BILL_AMT2     False\n",
      "BILL_AMT3     False\n",
      "BILL_AMT4     False\n",
      "BILL_AMT5     False\n",
      "BILL_AMT6     False\n",
      "PAY_AMT1      False\n",
      "PAY_AMT2      False\n",
      "PAY_AMT3      False\n",
      "PAY_AMT4      False\n",
      "PAY_AMT5      False\n",
      "PAY_AMT6      False\n"
     ]
    }
   ],
   "source": [
    "# Instantiate KNN model\n",
    "knn_model = KNeighborsClassifier(n_neighbors=3)\n",
    "# Fit KNN model\n",
    "knn_model.fit(X, y)\n",
    "\n",
    "# Select top k features based on ANOVA F-statistic\n",
    "knn_feature_selection = SelectKBest(score_func=f_classif, k=5)\n",
    "X_knn = knn_feature_selection.fit_transform(X, y)\n",
    "\n",
    "# Display selected features\n",
    "selected_features_knn = pd.DataFrame(knn_feature_selection.get_support(), index=X.columns, columns=['Selected'])\n",
    "print(selected_features_knn)"
   ]
  },
  {
   "cell_type": "markdown",
   "metadata": {
    "id": "WpwKqmdZ2_sK"
   },
   "source": [
    "Observation: Less features are selected when compared to Lasso. Ignoring KNN as Lasso has advantages"
   ]
  },
  {
   "cell_type": "markdown",
   "metadata": {
    "id": "MzwT0eW13Jyu"
   },
   "source": [
    "## Correlation"
   ]
  },
  {
   "cell_type": "code",
   "execution_count": 44,
   "metadata": {
    "colab": {
     "base_uri": "https://localhost:8080/",
     "height": 0
    },
    "id": "tETQ9VTD3SNB",
    "outputId": "59ddc937-6871-47ed-d03c-4170c4e73df5"
   },
   "outputs": [
    {
     "name": "stdout",
     "output_type": "stream",
     "text": [
      "     Selected\n",
      "0   LIMIT_BAL\n",
      "1         SEX\n",
      "2   EDUCATION\n",
      "3    MARRIAGE\n",
      "4         AGE\n",
      "5       PAY_1\n",
      "6       PAY_2\n",
      "7   BILL_AMT1\n",
      "8    PAY_AMT1\n",
      "9    PAY_AMT2\n",
      "10   PAY_AMT3\n",
      "11   PAY_AMT4\n",
      "12   PAY_AMT5\n",
      "13   PAY_AMT6\n"
     ]
    }
   ],
   "source": [
    "# Calculate the correlation matrix\n",
    "correlation_matrix = X.corr()\n",
    "\n",
    "# Set a threshold for correlation (e.g., 0.7)\n",
    "threshold = 0.7\n",
    "\n",
    "# Find and drop highly correlated features\n",
    "highly_correlated_features = set()\n",
    "for i in range(len(correlation_matrix.columns)):\n",
    "    for j in range(i):\n",
    "        if abs(correlation_matrix.iloc[i, j]) > threshold:\n",
    "            colname = correlation_matrix.columns[i]\n",
    "            highly_correlated_features.add(colname)\n",
    "\n",
    "X_correlation = X.drop(columns=highly_correlated_features)\n",
    "\n",
    "# Display selected features\n",
    "selected_features_correlation = pd.DataFrame(X_correlation.columns, columns=['Selected'])\n",
    "print(selected_features_correlation)"
   ]
  },
  {
   "cell_type": "code",
   "execution_count": 45,
   "metadata": {
    "colab": {
     "base_uri": "https://localhost:8080/",
     "height": 429
    },
    "id": "QVaSEaotHNax",
    "outputId": "9ad8b8a6-01c9-4eee-e746-3322868a6a34"
   },
   "outputs": [
    {
     "data": {
      "text/plain": [
       "Text(0, 0.5, 'Feature Name / Target Variable Name')"
      ]
     },
     "execution_count": 45,
     "metadata": {},
     "output_type": "execute_result"
    },
    {
     "data": {
      "image/png": "[encoded data removed]",
      "text/plain": [
       "<Figure size 400x400 with 1 Axes>"
      ]
     },
     "metadata": {},
     "output_type": "display_data"
    }
   ],
   "source": [
    "# Correlation coefficient plot\n",
    "plt.figure(figsize=(4, 4))\n",
    "sns.barplot(x = df.corr()['DEFAULT'], y=df.corr()['DEFAULT'].index)\n",
    "plt.title(\"Correlation coefficient of features with repect to Target Variable, DEFAULT\", fontsize=15)\n",
    "plt.xlabel(\"Correlation coeffiecient\")\n",
    "plt.ylabel(\"Feature Name / Target Variable Name\")"
   ]
  },
  {
   "cell_type": "markdown",
   "metadata": {
    "id": "No-2Skm83sty"
   },
   "source": [
    "Observation: More features are selected when compared to Lasso as high correlation coefficient of 0.7 is considered."
   ]
  },
  {
   "cell_type": "markdown",
   "metadata": {
    "id": "ywhvZeyB31H1"
   },
   "source": [
    "### Why Lasso over KNN and Correlation for Feature Selection?\n",
    "From the  lasso feature selection output we can observe that features like 'SEX', 'EDUCATION', 'MARRIAGE', 'PAY_1', 'PAY_2' and 'PAY_3' were selected, while other potentially correlated features like 'LIMIT_BAL' and 'AGE' were excluded. This is the example for elimination of multicollinearity. This is nothing but indicating that these features contribute significantly to the model. Other correlated features like 'LIMIT_BAL' and 'AGE' were effectively eliminated by assigning coefficients close to zero reducing redundancy. <br>\n",
    "This is in contrast to KNN, which inherently considers all features without explicitly handling multicollinearity, and correlation-based methods that might not address the issue directly. <br>\n",
    "Lasso's ability to balance simplicity, interpretability, encourages sparsity helps to classify whether customer defaulted or not."
   ]
  },
  {
   "cell_type": "markdown",
   "metadata": {
    "id": "0PHhSQRf5Qgi"
   },
   "source": [
    "### Selected features from Lasso"
   ]
  },
  {
   "cell_type": "code",
   "execution_count": 46,
   "metadata": {
    "colab": {
     "base_uri": "https://localhost:8080/",
     "height": 0
    },
    "id": "GKT77mMq4UkB",
    "outputId": "953e5352-0385-4b6a-d6d6-fe5a4edb9ccb"
   },
   "outputs": [
    {
     "name": "stdout",
     "output_type": "stream",
     "text": [
      "<class 'pandas.core.frame.DataFrame'>\n",
      "Index: 24000 entries, 9111 to 28847\n",
      "Data columns (total 6 columns):\n",
      " #   Column     Non-Null Count  Dtype\n",
      "---  ------     --------------  -----\n",
      " 0   SEX        24000 non-null  int64\n",
      " 1   EDUCATION  24000 non-null  int64\n",
      " 2   MARRIAGE   24000 non-null  int64\n",
      " 3   PAY_1      24000 non-null  int64\n",
      " 4   PAY_2      24000 non-null  int64\n",
      " 5   PAY_3      24000 non-null  int64\n",
      "dtypes: int64(6)\n",
      "memory usage: 1.3 MB\n"
     ]
    }
   ],
   "source": [
    "# Get the training and test data for the selected features\n",
    "X_train_selected = X_train[selected_features]\n",
    "X_test_selected = X_test[selected_features]\n",
    "X_train_selected.info()"
   ]
  },
  {
   "cell_type": "markdown",
   "metadata": {
    "id": "nHDfkUs35iA_"
   },
   "source": []
  },
  {
   "cell_type": "markdown",
   "metadata": {
    "id": "drDcy974d9_n"
   },
   "source": [
    "# Step-3 Model structure selection to tune hyper-parameters"
   ]
  },
  {
   "cell_type": "markdown",
   "metadata": {
    "id": "zn6HQiO62ea8"
   },
   "source": [
    "## Best Random Forest hypertuning parameters estimation with randomized serach\n",
    "\n",
    "\n"
   ]
  },
  {
   "cell_type": "code",
   "execution_count": 47,
   "metadata": {
    "colab": {
     "base_uri": "https://localhost:8080/",
     "height": 0
    },
    "id": "C6z11OT40L5h",
    "outputId": "e0737b20-a5e9-4261-bcc2-d196526a7909"
   },
   "outputs": [
    {
     "name": "stdout",
     "output_type": "stream",
     "text": [
      "Random Forest Accuracy before Randomized Search: 0.8155\n"
     ]
    }
   ],
   "source": [
    "# Random Forest before randomized serach\n",
    "# Fit the model from training data using Random Forest\n",
    "model = RandomForestClassifier()\n",
    "rf_bef_random = model.fit(X_train_selected, y_train)\n",
    "\n",
    "# Model fit with training data\n",
    "#y_train_predict = rf_bef_random.predict(X_train)\n",
    "# Make predictions on the test data\n",
    "rf_y_pred_bef_random = rf_bef_random.predict(X_test_selected)\n",
    "\n",
    "# Evaluate the model after Randomized Search\n",
    "accuracy_rf_bef_random = accuracy_score(y_test, rf_y_pred_bef_random)\n",
    "print(f'Random Forest Accuracy before Randomized Search: {accuracy_rf_bef_random:.4f}')"
   ]
  },
  {
   "cell_type": "code",
   "execution_count": 48,
   "metadata": {
    "colab": {
     "base_uri": "https://localhost:8080/",
     "height": 115
    },
    "id": "uhQPnfxjxN0Y",
    "outputId": "bb86f9a1-d33c-4c0e-caa0-1ef97d103a59"
   },
   "outputs": [
    {
     "data": {
      "text/html": [
       "<style>#sk-container-id-2 {\n",
       "  /* Definition of color scheme common for light and dark mode */\n",
       "  --sklearn-color-text: black;\n",
       "  --sklearn-color-line: gray;\n",
       "  /* Definition of color scheme for unfitted estimators */\n",
       "  --sklearn-color-unfitted-level-0: #fff5e6;\n",
       "  --sklearn-color-unfitted-level-1: #f6e4d2;\n",
       "  --sklearn-color-unfitted-level-2: #ffe0b3;\n",
       "  --sklearn-color-unfitted-level-3: chocolate;\n",
       "  /* Definition of color scheme for fitted estimators */\n",
       "  --sklearn-color-fitted-level-0: #f0f8ff;\n",
       "  --sklearn-color-fitted-level-1: #d4ebff;\n",
       "  --sklearn-color-fitted-level-2: #b3dbfd;\n",
       "  --sklearn-color-fitted-level-3: cornflowerblue;\n",
       "\n",
       "  /* Specific color for light theme */\n",
       "  --sklearn-color-text-on-default-background: var(--sg-text-color, var(--theme-code-foreground, var(--jp-content-font-color1, black)));\n",
       "  --sklearn-color-background: var(--sg-background-color, var(--theme-background, var(--jp-layout-color0, white)));\n",
       "  --sklearn-color-border-box: var(--sg-text-color, var(--theme-code-foreground, var(--jp-content-font-color1, black)));\n",
       "  --sklearn-color-icon: #696969;\n",
       "\n",
       "  @media (prefers-color-scheme: dark) {\n",
       "    /* Redefinition of color scheme for dark theme */\n",
       "    --sklearn-color-text-on-default-background: var(--sg-text-color, var(--theme-code-foreground, var(--jp-content-font-color1, white)));\n",
       "    --sklearn-color-background: var(--sg-background-color, var(--theme-background, var(--jp-layout-color0, #111)));\n",
       "    --sklearn-color-border-box: var(--sg-text-color, var(--theme-code-foreground, var(--jp-content-font-color1, white)));\n",
       "    --sklearn-color-icon: #878787;\n",
       "  }\n",
       "}\n",
       "\n",
       "#sk-container-id-2 {\n",
       "  color: var(--sklearn-color-text);\n",
       "}\n",
       "\n",
       "#sk-container-id-2 pre {\n",
       "  padding: 0;\n",
       "}\n",
       "\n",
       "#sk-container-id-2 input.sk-hidden--visually {\n",
       "  border: 0;\n",
       "  clip: rect(1px 1px 1px 1px);\n",
       "  clip: rect(1px, 1px, 1px, 1px);\n",
       "  height: 1px;\n",
       "  margin: -1px;\n",
       "  overflow: hidden;\n",
       "  padding: 0;\n",
       "  position: absolute;\n",
       "  width: 1px;\n",
       "}\n",
       "\n",
       "#sk-container-id-2 div.sk-dashed-wrapped {\n",
       "  border: 1px dashed var(--sklearn-color-line);\n",
       "  margin: 0 0.4em 0.5em 0.4em;\n",
       "  box-sizing: border-box;\n",
       "  padding-bottom: 0.4em;\n",
       "  background-color: var(--sklearn-color-background);\n",
       "}\n",
       "\n",
       "#sk-container-id-2 div.sk-container {\n",
       "  /* jupyter's `normalize.less` sets `[hidden] { display: none; }`\n",
       "     but bootstrap.min.css set `[hidden] { display: none !important; }`\n",
       "     so we also need the `!important` here to be able to override the\n",
       "     default hidden behavior on the sphinx rendered scikit-learn.org.\n",
       "     See: https://github.com/scikit-learn/scikit-learn/issues/21755 */\n",
       "  display: inline-block !important;\n",
       "  position: relative;\n",
       "}\n",
       "\n",
       "#sk-container-id-2 div.sk-text-repr-fallback {\n",
       "  display: none;\n",
       "}\n",
       "\n",
       "div.sk-parallel-item,\n",
       "div.sk-serial,\n",
       "div.sk-item {\n",
       "  /* draw centered vertical line to link estimators */\n",
       "  background-image: linear-gradient(var(--sklearn-color-text-on-default-background), var(--sklearn-color-text-on-default-background));\n",
       "  background-size: 2px 100%;\n",
       "  background-repeat: no-repeat;\n",
       "  background-position: center center;\n",
       "}\n",
       "\n",
       "/* Parallel-specific style estimator block */\n",
       "\n",
       "#sk-container-id-2 div.sk-parallel-item::after {\n",
       "  content: \"\";\n",
       "  width: 100%;\n",
       "  border-bottom: 2px solid var(--sklearn-color-text-on-default-background);\n",
       "  flex-grow: 1;\n",
       "}\n",
       "\n",
       "#sk-container-id-2 div.sk-parallel {\n",
       "  display: flex;\n",
       "  align-items: stretch;\n",
       "  justify-content: center;\n",
       "  background-color: var(--sklearn-color-background);\n",
       "  position: relative;\n",
       "}\n",
       "\n",
       "#sk-container-id-2 div.sk-parallel-item {\n",
       "  display: flex;\n",
       "  flex-direction: column;\n",
       "}\n",
       "\n",
       "#sk-container-id-2 div.sk-parallel-item:first-child::after {\n",
       "  align-self: flex-end;\n",
       "  width: 50%;\n",
       "}\n",
       "\n",
       "#sk-container-id-2 div.sk-parallel-item:last-child::after {\n",
       "  align-self: flex-start;\n",
       "  width: 50%;\n",
       "}\n",
       "\n",
       "#sk-container-id-2 div.sk-parallel-item:only-child::after {\n",
       "  width: 0;\n",
       "}\n",
       "\n",
       "/* Serial-specific style estimator block */\n",
       "\n",
       "#sk-container-id-2 div.sk-serial {\n",
       "  display: flex;\n",
       "  flex-direction: column;\n",
       "  align-items: center;\n",
       "  background-color: var(--sklearn-color-background);\n",
       "  padding-right: 1em;\n",
       "  padding-left: 1em;\n",
       "}\n",
       "\n",
       "\n",
       "/* Toggleable style: style used for estimator/Pipeline/ColumnTransformer box that is\n",
       "clickable and can be expanded/collapsed.\n",
       "- Pipeline and ColumnTransformer use this feature and define the default style\n",
       "- Estimators will overwrite some part of the style using the `sk-estimator` class\n",
       "*/\n",
       "\n",
       "/* Pipeline and ColumnTransformer style (default) */\n",
       "\n",
       "#sk-container-id-2 div.sk-toggleable {\n",
       "  /* Default theme specific background. It is overwritten whether we have a\n",
       "  specific estimator or a Pipeline/ColumnTransformer */\n",
       "  background-color: var(--sklearn-color-background);\n",
       "}\n",
       "\n",
       "/* Toggleable label */\n",
       "#sk-container-id-2 label.sk-toggleable__label {\n",
       "  cursor: pointer;\n",
       "  display: block;\n",
       "  width: 100%;\n",
       "  margin-bottom: 0;\n",
       "  padding: 0.5em;\n",
       "  box-sizing: border-box;\n",
       "  text-align: center;\n",
       "}\n",
       "\n",
       "#sk-container-id-2 label.sk-toggleable__label-arrow:before {\n",
       "  /* Arrow on the left of the label */\n",
       "  content: \"▸\";\n",
       "  float: left;\n",
       "  margin-right: 0.25em;\n",
       "  color: var(--sklearn-color-icon);\n",
       "}\n",
       "\n",
       "#sk-container-id-2 label.sk-toggleable__label-arrow:hover:before {\n",
       "  color: var(--sklearn-color-text);\n",
       "}\n",
       "\n",
       "/* Toggleable content - dropdown */\n",
       "\n",
       "#sk-container-id-2 div.sk-toggleable__content {\n",
       "  max-height: 0;\n",
       "  max-width: 0;\n",
       "  overflow: hidden;\n",
       "  text-align: left;\n",
       "  /* unfitted */\n",
       "  background-color: var(--sklearn-color-unfitted-level-0);\n",
       "}\n",
       "\n",
       "#sk-container-id-2 div.sk-toggleable__content.fitted {\n",
       "  /* fitted */\n",
       "  background-color: var(--sklearn-color-fitted-level-0);\n",
       "}\n",
       "\n",
       "#sk-container-id-2 div.sk-toggleable__content pre {\n",
       "  margin: 0.2em;\n",
       "  border-radius: 0.25em;\n",
       "  color: var(--sklearn-color-text);\n",
       "  /* unfitted */\n",
       "  background-color: var(--sklearn-color-unfitted-level-0);\n",
       "}\n",
       "\n",
       "#sk-container-id-2 div.sk-toggleable__content.fitted pre {\n",
       "  /* unfitted */\n",
       "  background-color: var(--sklearn-color-fitted-level-0);\n",
       "}\n",
       "\n",
       "#sk-container-id-2 input.sk-toggleable__control:checked~div.sk-toggleable__content {\n",
       "  /* Expand drop-down */\n",
       "  max-height: 200px;\n",
       "  max-width: 100%;\n",
       "  overflow: auto;\n",
       "}\n",
       "\n",
       "#sk-container-id-2 input.sk-toggleable__control:checked~label.sk-toggleable__label-arrow:before {\n",
       "  content: \"▾\";\n",
       "}\n",
       "\n",
       "/* Pipeline/ColumnTransformer-specific style */\n",
       "\n",
       "#sk-container-id-2 div.sk-label input.sk-toggleable__control:checked~label.sk-toggleable__label {\n",
       "  color: var(--sklearn-color-text);\n",
       "  background-color: var(--sklearn-color-unfitted-level-2);\n",
       "}\n",
       "\n",
       "#sk-container-id-2 div.sk-label.fitted input.sk-toggleable__control:checked~label.sk-toggleable__label {\n",
       "  background-color: var(--sklearn-color-fitted-level-2);\n",
       "}\n",
       "\n",
       "/* Estimator-specific style */\n",
       "\n",
       "/* Colorize estimator box */\n",
       "#sk-container-id-2 div.sk-estimator input.sk-toggleable__control:checked~label.sk-toggleable__label {\n",
       "  /* unfitted */\n",
       "  background-color: var(--sklearn-color-unfitted-level-2);\n",
       "}\n",
       "\n",
       "#sk-container-id-2 div.sk-estimator.fitted input.sk-toggleable__control:checked~label.sk-toggleable__label {\n",
       "  /* fitted */\n",
       "  background-color: var(--sklearn-color-fitted-level-2);\n",
       "}\n",
       "\n",
       "#sk-container-id-2 div.sk-label label.sk-toggleable__label,\n",
       "#sk-container-id-2 div.sk-label label {\n",
       "  /* The background is the default theme color */\n",
       "  color: var(--sklearn-color-text-on-default-background);\n",
       "}\n",
       "\n",
       "/* On hover, darken the color of the background */\n",
       "#sk-container-id-2 div.sk-label:hover label.sk-toggleable__label {\n",
       "  color: var(--sklearn-color-text);\n",
       "  background-color: var(--sklearn-color-unfitted-level-2);\n",
       "}\n",
       "\n",
       "/* Label box, darken color on hover, fitted */\n",
       "#sk-container-id-2 div.sk-label.fitted:hover label.sk-toggleable__label.fitted {\n",
       "  color: var(--sklearn-color-text);\n",
       "  background-color: var(--sklearn-color-fitted-level-2);\n",
       "}\n",
       "\n",
       "/* Estimator label */\n",
       "\n",
       "#sk-container-id-2 div.sk-label label {\n",
       "  font-family: monospace;\n",
       "  font-weight: bold;\n",
       "  display: inline-block;\n",
       "  line-height: 1.2em;\n",
       "}\n",
       "\n",
       "#sk-container-id-2 div.sk-label-container {\n",
       "  text-align: center;\n",
       "}\n",
       "\n",
       "/* Estimator-specific */\n",
       "#sk-container-id-2 div.sk-estimator {\n",
       "  font-family: monospace;\n",
       "  border: 1px dotted var(--sklearn-color-border-box);\n",
       "  border-radius: 0.25em;\n",
       "  box-sizing: border-box;\n",
       "  margin-bottom: 0.5em;\n",
       "  /* unfitted */\n",
       "  background-color: var(--sklearn-color-unfitted-level-0);\n",
       "}\n",
       "\n",
       "#sk-container-id-2 div.sk-estimator.fitted {\n",
       "  /* fitted */\n",
       "  background-color: var(--sklearn-color-fitted-level-0);\n",
       "}\n",
       "\n",
       "/* on hover */\n",
       "#sk-container-id-2 div.sk-estimator:hover {\n",
       "  /* unfitted */\n",
       "  background-color: var(--sklearn-color-unfitted-level-2);\n",
       "}\n",
       "\n",
       "#sk-container-id-2 div.sk-estimator.fitted:hover {\n",
       "  /* fitted */\n",
       "  background-color: var(--sklearn-color-fitted-level-2);\n",
       "}\n",
       "\n",
       "/* Specification for estimator info (e.g. \"i\" and \"?\") */\n",
       "\n",
       "/* Common style for \"i\" and \"?\" */\n",
       "\n",
       ".sk-estimator-doc-link,\n",
       "a:link.sk-estimator-doc-link,\n",
       "a:visited.sk-estimator-doc-link {\n",
       "  float: right;\n",
       "  font-size: smaller;\n",
       "  line-height: 1em;\n",
       "  font-family: monospace;\n",
       "  background-color: var(--sklearn-color-background);\n",
       "  border-radius: 1em;\n",
       "  height: 1em;\n",
       "  width: 1em;\n",
       "  text-decoration: none !important;\n",
       "  margin-left: 1ex;\n",
       "  /* unfitted */\n",
       "  border: var(--sklearn-color-unfitted-level-1) 1pt solid;\n",
       "  color: var(--sklearn-color-unfitted-level-1);\n",
       "}\n",
       "\n",
       ".sk-estimator-doc-link.fitted,\n",
       "a:link.sk-estimator-doc-link.fitted,\n",
       "a:visited.sk-estimator-doc-link.fitted {\n",
       "  /* fitted */\n",
       "  border: var(--sklearn-color-fitted-level-1) 1pt solid;\n",
       "  color: var(--sklearn-color-fitted-level-1);\n",
       "}\n",
       "\n",
       "/* On hover */\n",
       "div.sk-estimator:hover .sk-estimator-doc-link:hover,\n",
       ".sk-estimator-doc-link:hover,\n",
       "div.sk-label-container:hover .sk-estimator-doc-link:hover,\n",
       ".sk-estimator-doc-link:hover {\n",
       "  /* unfitted */\n",
       "  background-color: var(--sklearn-color-unfitted-level-3);\n",
       "  color: var(--sklearn-color-background);\n",
       "  text-decoration: none;\n",
       "}\n",
       "\n",
       "div.sk-estimator.fitted:hover .sk-estimator-doc-link.fitted:hover,\n",
       ".sk-estimator-doc-link.fitted:hover,\n",
       "div.sk-label-container:hover .sk-estimator-doc-link.fitted:hover,\n",
       ".sk-estimator-doc-link.fitted:hover {\n",
       "  /* fitted */\n",
       "  background-color: var(--sklearn-color-fitted-level-3);\n",
       "  color: var(--sklearn-color-background);\n",
       "  text-decoration: none;\n",
       "}\n",
       "\n",
       "/* Span, style for the box shown on hovering the info icon */\n",
       ".sk-estimator-doc-link span {\n",
       "  display: none;\n",
       "  z-index: 9999;\n",
       "  position: relative;\n",
       "  font-weight: normal;\n",
       "  right: .2ex;\n",
       "  padding: .5ex;\n",
       "  margin: .5ex;\n",
       "  width: min-content;\n",
       "  min-width: 20ex;\n",
       "  max-width: 50ex;\n",
       "  color: var(--sklearn-color-text);\n",
       "  box-shadow: 2pt 2pt 4pt #999;\n",
       "  /* unfitted */\n",
       "  background: var(--sklearn-color-unfitted-level-0);\n",
       "  border: .5pt solid var(--sklearn-color-unfitted-level-3);\n",
       "}\n",
       "\n",
       ".sk-estimator-doc-link.fitted span {\n",
       "  /* fitted */\n",
       "  background: var(--sklearn-color-fitted-level-0);\n",
       "  border: var(--sklearn-color-fitted-level-3);\n",
       "}\n",
       "\n",
       ".sk-estimator-doc-link:hover span {\n",
       "  display: block;\n",
       "}\n",
       "\n",
       "/* \"?\"-specific style due to the `<a>` HTML tag */\n",
       "\n",
       "#sk-container-id-2 a.estimator_doc_link {\n",
       "  float: right;\n",
       "  font-size: 1rem;\n",
       "  line-height: 1em;\n",
       "  font-family: monospace;\n",
       "  background-color: var(--sklearn-color-background);\n",
       "  border-radius: 1rem;\n",
       "  height: 1rem;\n",
       "  width: 1rem;\n",
       "  text-decoration: none;\n",
       "  /* unfitted */\n",
       "  color: var(--sklearn-color-unfitted-level-1);\n",
       "  border: var(--sklearn-color-unfitted-level-1) 1pt solid;\n",
       "}\n",
       "\n",
       "#sk-container-id-2 a.estimator_doc_link.fitted {\n",
       "  /* fitted */\n",
       "  border: var(--sklearn-color-fitted-level-1) 1pt solid;\n",
       "  color: var(--sklearn-color-fitted-level-1);\n",
       "}\n",
       "\n",
       "/* On hover */\n",
       "#sk-container-id-2 a.estimator_doc_link:hover {\n",
       "  /* unfitted */\n",
       "  background-color: var(--sklearn-color-unfitted-level-3);\n",
       "  color: var(--sklearn-color-background);\n",
       "  text-decoration: none;\n",
       "}\n",
       "\n",
       "#sk-container-id-2 a.estimator_doc_link.fitted:hover {\n",
       "  /* fitted */\n",
       "  background-color: var(--sklearn-color-fitted-level-3);\n",
       "}\n",
       "</style><div id=\"sk-container-id-2\" class=\"sk-top-container\"><div class=\"sk-text-repr-fallback\"><pre>RandomizedSearchCV(cv=5, estimator=RandomForestClassifier(),\n",
       "                   param_distributions={&#x27;max_depth&#x27;: [None, 10, 20, 30],\n",
       "                                        &#x27;min_samples_leaf&#x27;: [1, 2, 4],\n",
       "                                        &#x27;min_samples_split&#x27;: [2, 5, 10],\n",
       "                                        &#x27;n_estimators&#x27;: [50, 100, 150, 200]},\n",
       "                   random_state=42, scoring=&#x27;accuracy&#x27;)</pre><b>In a Jupyter environment, please rerun this cell to show the HTML representation or trust the notebook. <br />On GitHub, the HTML representation is unable to render, please try loading this page with nbviewer.org.</b></div><div class=\"sk-container\" hidden><div class=\"sk-item sk-dashed-wrapped\"><div class=\"sk-label-container\"><div class=\"sk-label fitted sk-toggleable\"><input class=\"sk-toggleable__control sk-hidden--visually\" id=\"sk-estimator-id-4\" type=\"checkbox\" ><label for=\"sk-estimator-id-4\" class=\"sk-toggleable__label fitted sk-toggleable__label-arrow fitted\">&nbsp;&nbsp;RandomizedSearchCV<a class=\"sk-estimator-doc-link fitted\" rel=\"noreferrer\" target=\"_blank\" href=\"https://scikit-learn.org/1.4/modules/generated/sklearn.model_selection.RandomizedSearchCV.html\">?<span>Documentation for RandomizedSearchCV</span></a><span class=\"sk-estimator-doc-link fitted\">i<span>Fitted</span></span></label><div class=\"sk-toggleable__content fitted\"><pre>RandomizedSearchCV(cv=5, estimator=RandomForestClassifier(),\n",
       "                   param_distributions={&#x27;max_depth&#x27;: [None, 10, 20, 30],\n",
       "                                        &#x27;min_samples_leaf&#x27;: [1, 2, 4],\n",
       "                                        &#x27;min_samples_split&#x27;: [2, 5, 10],\n",
       "                                        &#x27;n_estimators&#x27;: [50, 100, 150, 200]},\n",
       "                   random_state=42, scoring=&#x27;accuracy&#x27;)</pre></div> </div></div><div class=\"sk-parallel\"><div class=\"sk-parallel-item\"><div class=\"sk-item\"><div class=\"sk-label-container\"><div class=\"sk-label fitted sk-toggleable\"><input class=\"sk-toggleable__control sk-hidden--visually\" id=\"sk-estimator-id-5\" type=\"checkbox\" ><label for=\"sk-estimator-id-5\" class=\"sk-toggleable__label fitted sk-toggleable__label-arrow fitted\">estimator: RandomForestClassifier</label><div class=\"sk-toggleable__content fitted\"><pre>RandomForestClassifier()</pre></div> </div></div><div class=\"sk-serial\"><div class=\"sk-item\"><div class=\"sk-estimator fitted sk-toggleable\"><input class=\"sk-toggleable__control sk-hidden--visually\" id=\"sk-estimator-id-6\" type=\"checkbox\" ><label for=\"sk-estimator-id-6\" class=\"sk-toggleable__label fitted sk-toggleable__label-arrow fitted\">&nbsp;RandomForestClassifier<a class=\"sk-estimator-doc-link fitted\" rel=\"noreferrer\" target=\"_blank\" href=\"https://scikit-learn.org/1.4/modules/generated/sklearn.ensemble.RandomForestClassifier.html\">?<span>Documentation for RandomForestClassifier</span></a></label><div class=\"sk-toggleable__content fitted\"><pre>RandomForestClassifier()</pre></div> </div></div></div></div></div></div></div></div></div>"
      ],
      "text/plain": [
       "RandomizedSearchCV(cv=5, estimator=RandomForestClassifier(),\n",
       "                   param_distributions={'max_depth': [None, 10, 20, 30],\n",
       "                                        'min_samples_leaf': [1, 2, 4],\n",
       "                                        'min_samples_split': [2, 5, 10],\n",
       "                                        'n_estimators': [50, 100, 150, 200]},\n",
       "                   random_state=42, scoring='accuracy')"
      ]
     },
     "execution_count": 48,
     "metadata": {},
     "output_type": "execute_result"
    }
   ],
   "source": [
    "# Randomized Search for Random Forest\n",
    "param_dist_rf = {\n",
    "    'n_estimators': [50, 100, 150, 200],\n",
    "    'max_depth': [None, 10, 20, 30],\n",
    "    'min_samples_split': [2, 5, 10],\n",
    "    'min_samples_leaf': [1, 2, 4]\n",
    "}\n",
    "\n",
    "random_search_rf = RandomizedSearchCV(estimator=RandomForestClassifier(), param_distributions=param_dist_rf,\n",
    "                                       n_iter=10, cv=5, scoring='accuracy', random_state=42)\n",
    "random_search_rf.fit(X_train_selected, y_train)"
   ]
  },
  {
   "cell_type": "code",
   "execution_count": 49,
   "metadata": {
    "colab": {
     "base_uri": "https://localhost:8080/",
     "height": 0
    },
    "id": "_fDcUvmIy7dV",
    "outputId": "1f2d2061-3354-45b1-d440-0a0e7ebc114d"
   },
   "outputs": [
    {
     "name": "stdout",
     "output_type": "stream",
     "text": [
      "Random Forest Accuracy after Randomized Search: 0.8190\n"
     ]
    }
   ],
   "source": [
    "# Get the best hyperparameters for Random Forest\n",
    "best_params_rf_random = random_search_rf.best_params_\n",
    "\n",
    "# Fit the model with the best hyperparameters on the entire training set\n",
    "best_rf_model_random = RandomForestClassifier(**best_params_rf_random)\n",
    "best_rf_model_random.fit(X_train_selected, y_train)\n",
    "\n",
    "# Predictions on the test set for Random Forest\n",
    "rf_y_pred_after_random = best_rf_model_random.predict(X_test_selected)\n",
    "\n",
    "# Evaluate the model after Randomized Search\n",
    "accuracy_rf_after_random = accuracy_score(y_test, rf_y_pred_after_random)\n",
    "print(f'Random Forest Accuracy after Randomized Search: {accuracy_rf_after_random:.4f}')"
   ]
  },
  {
   "cell_type": "code",
   "execution_count": 50,
   "metadata": {
    "colab": {
     "base_uri": "https://localhost:8080/",
     "height": 0
    },
    "id": "UfYUF_nbzTMh",
    "outputId": "1d988122-6fe9-40ca-eb4b-0edbc403b564"
   },
   "outputs": [
    {
     "data": {
      "text/plain": [
       "{'n_estimators': 100,\n",
       " 'min_samples_split': 5,\n",
       " 'min_samples_leaf': 4,\n",
       " 'max_depth': 10}"
      ]
     },
     "execution_count": 50,
     "metadata": {},
     "output_type": "execute_result"
    }
   ],
   "source": [
    "# Display the best hyper-parameters for random forest\n",
    "best_params_rf_random"
   ]
  },
  {
   "cell_type": "markdown",
   "metadata": {
    "id": "Fv4Ddxi62spb"
   },
   "source": [
    "## Best KNN hypertuning parameters estimation with randomized serach\n"
   ]
  },
  {
   "cell_type": "code",
   "execution_count": 51,
   "metadata": {
    "colab": {
     "base_uri": "https://localhost:8080/",
     "height": 0
    },
    "id": "1uM6cIGz7ffd",
    "outputId": "b58d9da6-9e4e-42ea-fe68-7a9c523be8d8"
   },
   "outputs": [
    {
     "name": "stdout",
     "output_type": "stream",
     "text": [
      "KNN Accuracy before Randomized Search: 0.8050\n"
     ]
    }
   ],
   "source": [
    "# KNN before randomized search\n",
    "model = KNeighborsClassifier()\n",
    "knn_bef_random = model.fit(X_train_selected, y_train)\n",
    "\n",
    "# Make predictions on the test data\n",
    "knn_y_pred_bef_random = knn_bef_random.predict(X_test_selected)\n",
    "\n",
    "# Evaluate the model after Randomized Search\n",
    "accuracy_knn_bef_random = accuracy_score(y_test, knn_y_pred_bef_random)\n",
    "print(f'KNN Accuracy before Randomized Search: {accuracy_knn_bef_random:.4f}')"
   ]
  },
  {
   "cell_type": "code",
   "execution_count": 52,
   "metadata": {
    "colab": {
     "base_uri": "https://localhost:8080/",
     "height": 0
    },
    "id": "6mLKqgBr2-X8",
    "outputId": "937580cb-1ec5-4749-d7da-0fb5a83a44fc"
   },
   "outputs": [
    {
     "name": "stdout",
     "output_type": "stream",
     "text": [
      "K-Nearest Neighbors Accuracy after Randomized Search: 0.8093\n"
     ]
    }
   ],
   "source": [
    "# Randomized Search for K-Nearest Neighbors\n",
    "param_dist_knn = {\n",
    "    'n_neighbors': [3, 5, 7, 9],\n",
    "    'weights': ['uniform', 'distance'],\n",
    "    'p': [1, 2]\n",
    "}\n",
    "\n",
    "random_search_knn = RandomizedSearchCV(estimator=KNeighborsClassifier(), param_distributions=param_dist_knn,\n",
    "                                        n_iter=10, cv=5, scoring='accuracy', random_state=42)\n",
    "random_search_knn.fit(X_train_selected, y_train)\n",
    "\n",
    "# Get the best hyperparameters for K-Nearest Neighbors\n",
    "best_params_knn_random = random_search_knn.best_params_\n",
    "\n",
    "# Fit the model with the best hyperparameters on the entire training set\n",
    "best_knn_model_random = KNeighborsClassifier(**best_params_knn_random)\n",
    "best_knn_model_random.fit(X_train_selected, y_train)\n",
    "\n",
    "# Predictions on the test set for K-Nearest Neighbors\n",
    "knn_y_pred_after_random = best_knn_model_random.predict(X_test_selected)\n",
    "\n",
    "# Evaluate the model after Randomized Search\n",
    "accuracy_knn_after_random = accuracy_score(y_test, knn_y_pred_after_random)\n",
    "print(f'K-Nearest Neighbors Accuracy after Randomized Search: {accuracy_knn_after_random:.4f}')"
   ]
  },
  {
   "cell_type": "code",
   "execution_count": 53,
   "metadata": {
    "colab": {
     "base_uri": "https://localhost:8080/",
     "height": 0
    },
    "id": "h6HmwcxK3BjI",
    "outputId": "c16021fc-108f-4dbf-dc9d-1ca92c671213"
   },
   "outputs": [
    {
     "data": {
      "text/plain": [
       "{'weights': 'uniform', 'p': 2, 'n_neighbors': 9}"
      ]
     },
     "execution_count": 53,
     "metadata": {},
     "output_type": "execute_result"
    }
   ],
   "source": [
    "# Display the best hyper-parameters for KNN\n",
    "best_params_knn_random"
   ]
  },
  {
   "cell_type": "markdown",
   "metadata": {
    "id": "sqYLdnJa-aH4"
   },
   "source": [
    "## Best Decision Tree hypertuning parameters estimation with randomized serach\n"
   ]
  },
  {
   "cell_type": "code",
   "execution_count": 54,
   "metadata": {
    "colab": {
     "base_uri": "https://localhost:8080/",
     "height": 0
    },
    "id": "SaMO0UNMCOuz",
    "outputId": "a37fe720-2732-4950-a107-665239be493f"
   },
   "outputs": [
    {
     "name": "stdout",
     "output_type": "stream",
     "text": [
      "Decision Tree Accuracy before Randomized Search: 0.8152\n"
     ]
    }
   ],
   "source": [
    "# Decision Tree before randomized search\n",
    "model = DecisionTreeClassifier(max_depth = 20, criterion = \"gini\")\n",
    "dt_bef_random = model.fit(X_train_selected, y_train)\n",
    "\n",
    "# Make predictions on the test data\n",
    "dt_y_pred_bef_random = dt_bef_random.predict(X_test_selected)\n",
    "\n",
    "# Evaluate the model after Randomized Search\n",
    "accuracy_dt_bef_random = accuracy_score(y_test, dt_y_pred_bef_random)\n",
    "print(f'Decision Tree Accuracy before Randomized Search: {accuracy_dt_bef_random:.4f}')"
   ]
  },
  {
   "cell_type": "code",
   "execution_count": 55,
   "metadata": {
    "colab": {
     "base_uri": "https://localhost:8080/",
     "height": 0
    },
    "id": "Q4h_Wdpw-fTx",
    "outputId": "c0d15170-06fb-43e8-cdce-0648799a624a"
   },
   "outputs": [
    {
     "name": "stdout",
     "output_type": "stream",
     "text": [
      "Decision Tree Accuracy after Randomized Search: 0.8222\n"
     ]
    }
   ],
   "source": [
    "# Randomized Search for Decision Tree\n",
    "param_dist_dt = {\"max_depth\": [3, None],\n",
    "              \"max_features\": randint(1, 9),\n",
    "              \"min_samples_leaf\": randint(1, 9),\n",
    "              \"criterion\": [\"gini\", \"entropy\"]}\n",
    "\n",
    "# Instantiate a Decision Tree classifier: tree\n",
    "treeclassifier = DecisionTreeClassifier()\n",
    "\n",
    "# Instantiate the RandomizedSearchCV object: tree_cv\n",
    "random_search_dt = RandomizedSearchCV(treeclassifier, param_dist_dt, cv=5)\n",
    "\n",
    "random_search_dt.fit(X_train_selected, y_train)\n",
    "\n",
    "# Get the best hyperparameters for Decision Tree\n",
    "best_params_dt_random = random_search_dt.best_params_\n",
    "\n",
    "# Fit the model with the best hyperparameters on the entire training set\n",
    "best_dt_model_random = DecisionTreeClassifier(**best_params_dt_random)\n",
    "best_dt_model_random.fit(X_train_selected, y_train)\n",
    "\n",
    "# Predictions on the test set for K-Nearest Neighbors\n",
    "dt_y_pred_after_random = best_dt_model_random.predict(X_test_selected)\n",
    "\n",
    "# Evaluate the model after Randomized Search\n",
    "accuracy_dt_after_random = accuracy_score(y_test, dt_y_pred_after_random)\n",
    "print(f'Decision Tree Accuracy after Randomized Search: {accuracy_dt_after_random:.4f}')\n",
    "\n"
   ]
  },
  {
   "cell_type": "code",
   "execution_count": 56,
   "metadata": {
    "colab": {
     "base_uri": "https://localhost:8080/",
     "height": 0
    },
    "id": "En257f4ACF63",
    "outputId": "22d27746-9104-4ef6-cc02-ff96a55982cb"
   },
   "outputs": [
    {
     "data": {
      "text/plain": [
       "{'criterion': 'gini', 'max_depth': 3, 'max_features': 8, 'min_samples_leaf': 7}"
      ]
     },
     "execution_count": 56,
     "metadata": {},
     "output_type": "execute_result"
    }
   ],
   "source": [
    "# Display the best hyper-parameters for Decision Tree\n",
    "best_params_dt_random"
   ]
  },
  {
   "cell_type": "markdown",
   "metadata": {
    "id": "4LWY2cbbGAIo"
   },
   "source": [
    "### Comparisons for before and after random search"
   ]
  },
  {
   "cell_type": "code",
   "execution_count": 57,
   "metadata": {
    "colab": {
     "base_uri": "https://localhost:8080/",
     "height": 142
    },
    "id": "0lSN9TlFGHmB",
    "outputId": "2916a5a2-8d01-4112-beeb-ceb0438cd08c"
   },
   "outputs": [
    {
     "data": {
      "text/html": [
       "<div>\n",
       "<style scoped>\n",
       "    .dataframe tbody tr th:only-of-type {\n",
       "        vertical-align: middle;\n",
       "    }\n",
       "\n",
       "    .dataframe tbody tr th {\n",
       "        vertical-align: top;\n",
       "    }\n",
       "\n",
       "    .dataframe thead th {\n",
       "        text-align: right;\n",
       "    }\n",
       "</style>\n",
       "<table border=\"1\" class=\"dataframe\">\n",
       "  <thead>\n",
       "    <tr style=\"text-align: right;\">\n",
       "      <th></th>\n",
       "      <th>Model</th>\n",
       "      <th>Accuracy Score with no hyperparameter tuning</th>\n",
       "      <th>Accuracy Score with randomized search hyperparameter tuning</th>\n",
       "    </tr>\n",
       "  </thead>\n",
       "  <tbody>\n",
       "    <tr>\n",
       "      <th>0</th>\n",
       "      <td>Random Forest</td>\n",
       "      <td>81.550</td>\n",
       "      <td>81.900</td>\n",
       "    </tr>\n",
       "    <tr>\n",
       "      <th>1</th>\n",
       "      <td>KNN</td>\n",
       "      <td>80.500</td>\n",
       "      <td>80.933</td>\n",
       "    </tr>\n",
       "    <tr>\n",
       "      <th>2</th>\n",
       "      <td>Decision Tree</td>\n",
       "      <td>81.517</td>\n",
       "      <td>82.217</td>\n",
       "    </tr>\n",
       "  </tbody>\n",
       "</table>\n",
       "</div>"
      ],
      "text/plain": [
       "           Model  Accuracy Score with no hyperparameter tuning  \\\n",
       "0  Random Forest                                        81.550   \n",
       "1            KNN                                        80.500   \n",
       "2  Decision Tree                                        81.517   \n",
       "\n",
       "   Accuracy Score with randomized search hyperparameter tuning  \n",
       "0                                             81.900            \n",
       "1                                             80.933            \n",
       "2                                             82.217            "
      ]
     },
     "execution_count": 57,
     "metadata": {},
     "output_type": "execute_result"
    }
   ],
   "source": [
    "# Create a table comparing the performance on training and test data\n",
    "models = pd.DataFrame({\n",
    "    'Model': ['Random Forest','KNN','Decision Tree'],\n",
    "    'Accuracy Score with no hyperparameter tuning': [round(accuracy_rf_bef_random*100,3), round(accuracy_knn_bef_random*100,3), round(accuracy_dt_bef_random*100,3)],\n",
    "    'Accuracy Score with randomized search hyperparameter tuning': [round(accuracy_rf_after_random*100,3), round(accuracy_knn_after_random*100,3), round(accuracy_dt_after_random*100,3)],\n",
    "})\n",
    "models"
   ]
  },
  {
   "cell_type": "code",
   "execution_count": 60,
   "metadata": {
    "colab": {
     "base_uri": "https://localhost:8080/",
     "height": 347
    },
    "id": "6DUUW9BUI1w2",
    "outputId": "4282a35b-a808-49e0-eb13-04d217bd0fc2"
   },
   "outputs": [
    {
     "data": {
      "image/png": "[encoded data removed]",
      "text/plain": [
       "<Figure size 800x600 with 1 Axes>"
      ]
     },
     "metadata": {},
     "output_type": "display_data"
    }
   ],
   "source": [
    "import numpy as np\n",
    "import matplotlib.pyplot as plt\n",
    "\n",
    "# Set width of bar\n",
    "barWidth = 0.25\n",
    "fig, ax = plt.subplots(figsize =(8, 6))\n",
    "\n",
    "# Sample accuracy scores (replace with actual values)\n",
    "accuracy_rf_bef_random = 0.95\n",
    "accuracy_knn_bef_random = 0.92\n",
    "accuracy_dt_bef_random = 0.93\n",
    "accuracy_rf_after_random = 0.97\n",
    "accuracy_knn_after_random = 0.94\n",
    "accuracy_dt_after_random = 0.95\n",
    "\n",
    "# Set height of bar\n",
    "before_rs = [round(accuracy_rf_bef_random*100,3), round(accuracy_knn_bef_random*100,3), round(accuracy_dt_bef_random*100,3)]\n",
    "after_rs = [round(accuracy_rf_after_random*100,3), round(accuracy_knn_after_random*100,3), round(accuracy_dt_after_random*100,3)]\n",
    "\n",
    "# Set position of bar on X axis\n",
    "br1 = np.arange(len(before_rs))\n",
    "br2 = [x + barWidth for x in br1]\n",
    "\n",
    "# Make the plot\n",
    "plt.bar(br1, before_rs, color ='r', width = barWidth, edgecolor ='grey', label ='Before hyperparameter tuning')\n",
    "plt.bar(br2, after_rs, color ='b', width = barWidth, edgecolor ='grey', label ='After hyperparameter tuning')\n",
    "\n",
    "# Adding Xticks\n",
    "plt.xlabel('Machine Learning Model', fontsize = 12)\n",
    "plt.ylabel('Accuracy Score [%]', fontsize = 12)\n",
    "plt.xticks([r + barWidth for r in range(len(before_rs))], ['Random forest', 'KNN', 'Decision Tree'])\n",
    "plt.title(\"Performance comparison with randomized search\", fontweight ='bold', fontsize = 12)\n",
    "plt.legend()\n",
    "plt.ylim([90, 100])\n",
    "\n",
    "# Show plot\n",
    "plt.show()\n"
   ]
  },
  {
   "cell_type": "markdown",
   "metadata": {
    "id": "oYcLm1ZZ979q"
   },
   "source": [
    "Observations:\n",
    "1. Model improvement seen after tuning hyper-parameters with Randomized serach\n",
    "2. Significant improvement seen with Random Forest"
   ]
  },
  {
   "cell_type": "code",
   "execution_count": null,
   "metadata": {},
   "outputs": [],
   "source": []
  }
 ],
 "metadata": {
  "colab": {
   "provenance": []
  },
  "kernelspec": {
   "display_name": "Python 3 (ipykernel)",
   "language": "python",
   "name": "python3"
  },
  "language_info": {
   "codemirror_mode": {
    "name": "ipython",
    "version": 3
   },
   "file_extension": ".py",
   "mimetype": "text/x-python",
   "name": "python",
   "nbconvert_exporter": "python",
   "pygments_lexer": "ipython3",
   "version": "3.11.5"
  }
 },
 "nbformat": 4,
 "nbformat_minor": 1
}
